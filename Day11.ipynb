{
  "nbformat": 4,
  "nbformat_minor": 0,
  "metadata": {
    "colab": {
      "provenance": [],
      "authorship_tag": "ABX9TyMwp6MwnpeT4eqhmEJFLtFN",
      "include_colab_link": true
    },
    "kernelspec": {
      "name": "python3",
      "display_name": "Python 3"
    },
    "language_info": {
      "name": "python"
    }
  },
  "cells": [
    {
      "cell_type": "markdown",
      "metadata": {
        "id": "view-in-github",
        "colab_type": "text"
      },
      "source": [
        "<a href=\"https://colab.research.google.com/github/neerajguleria1/driver-drowsiness-detection/blob/main/Day11.ipynb\" target=\"_parent\"><img src=\"https://colab.research.google.com/assets/colab-badge.svg\" alt=\"Open In Colab\"/></a>"
      ]
    },
    {
      "cell_type": "code",
      "execution_count": null,
      "metadata": {
        "id": "WWh-U-c25TP0"
      },
      "outputs": [],
      "source": [
        "# Numpy Basics\n",
        "Understand how to handle large numeric data using NumPy arrays.\n",
        "Learn why NumPy is faster than lists and how to use it in Google Colab.\n"
      ]
    },
    {
      "cell_type": "code",
      "source": [
        "# Install & Import Numpy\n",
        "import numpy as np\n",
        "\n",
        "a=np.array([2,5,7,3])\n",
        "b=np.array([[2,5,7,2],[2,56,73,1]])\n",
        "\n",
        "print(a)\n",
        "print(b)\n",
        "\n",
        "print(\"Shape:\",b.shape)\n",
        "print(\"Dimension\",b.ndim)\n",
        "print(\"Data type:\",b.dtype)\n",
        "print(\"Size\",b.size)"
      ],
      "metadata": {
        "colab": {
          "base_uri": "https://localhost:8080/"
        },
        "id": "0b_GaWzO-XKI",
        "outputId": "4c12ffe7-cbfb-4630-bd0e-68c0bc7b31eb"
      },
      "execution_count": 12,
      "outputs": [
        {
          "output_type": "stream",
          "name": "stdout",
          "text": [
            "[2 5 7 3]\n",
            "[[ 2  5  7  2]\n",
            " [ 2 56 73  1]]\n",
            "Shape: (2, 4)\n",
            "Dimension 2\n",
            "Data type: int64\n",
            "Size 8\n"
          ]
        }
      ]
    },
    {
      "cell_type": "code",
      "source": [
        "# Special Arrays\n",
        "print(\"Zeroes\",np.zeros((3,3)))\n",
        "print(\"Ones\",np.ones((2,4)))\n",
        "print(\"Range:\",np.arange(0,10,2))\n",
        "print(\"Random:\",np.random.randint(1,100,size=(4,3)))\n"
      ],
      "metadata": {
        "colab": {
          "base_uri": "https://localhost:8080/"
        },
        "id": "EM6yMUDJB3E8",
        "outputId": "acc3b9c2-2c02-4c75-d546-78f9874cf5f0"
      },
      "execution_count": 27,
      "outputs": [
        {
          "output_type": "stream",
          "name": "stdout",
          "text": [
            "Zeroes [[0. 0. 0.]\n",
            " [0. 0. 0.]\n",
            " [0. 0. 0.]]\n",
            "Ones [[1. 1. 1. 1.]\n",
            " [1. 1. 1. 1.]]\n",
            "Range: [0 2 4 6 8]\n",
            "Random: [[40 44 35]\n",
            " [91 80 85]\n",
            " [92 66  6]\n",
            " [24 97 70]]\n"
          ]
        }
      ]
    },
    {
      "cell_type": "code",
      "source": [
        "# Array Indexing and Slicing\n",
        "arr=np.array([1,2,3,4,5,6])\n",
        "print(arr[0])\n",
        "print(arr[1:4])\n",
        "\n",
        "# 2D array\n",
        "arr2d=np.array([[1,2,4,7],[3,3,5,6]])\n",
        "print(\"Row 0\",arr2d[0])\n",
        "print(\"Element (1,2)\",arr2d[1,2])"
      ],
      "metadata": {
        "colab": {
          "base_uri": "https://localhost:8080/"
        },
        "id": "XKCvZ69BGPVI",
        "outputId": "ee41b4d8-ff85-4ddf-e1dd-00cdd227b3fb"
      },
      "execution_count": 34,
      "outputs": [
        {
          "output_type": "stream",
          "name": "stdout",
          "text": [
            "1\n",
            "[2 3 4]\n",
            "Row 0 [1 2 4 7]\n",
            "Element (1,2) 5\n"
          ]
        }
      ]
    },
    {
      "cell_type": "code",
      "source": [
        "# Mathematical Operations\n",
        "x=np.array([1,2,4])\n",
        "y=np.array([2,5,6])\n",
        "print(\"addition\",x+y)\n",
        "print(x*y)\n",
        "print(x**y)\n",
        "print(\"Mean\",np.mean(y))\n",
        "print(\"Max\",np.max(y))"
      ],
      "metadata": {
        "colab": {
          "base_uri": "https://localhost:8080/"
        },
        "id": "YLfGEJ9uHuUx",
        "outputId": "a3ea398a-b0e6-4a01-950b-2146261c9ae3"
      },
      "execution_count": 40,
      "outputs": [
        {
          "output_type": "stream",
          "name": "stdout",
          "text": [
            "addition [ 3  7 10]\n",
            "[ 2 10 24]\n",
            "[   1   32 4096]\n",
            "Mean 4.333333333333333\n",
            "Max 6\n"
          ]
        }
      ]
    },
    {
      "cell_type": "code",
      "source": [
        "# Real Life Example\n",
        "speeds=np.array([110,150,440,230,57,88,189,288])\n",
        "print(\"Average speed\",np.mean(speeds))\n",
        "print(\"Top speed\",np.max(speeds))\n",
        "print(\"Driver above 200:\",sum(speeds>200))"
      ],
      "metadata": {
        "colab": {
          "base_uri": "https://localhost:8080/"
        },
        "id": "lCnjawgBJ4wQ",
        "outputId": "7b064ac6-348a-49ef-c48e-4946f971d5f0"
      },
      "execution_count": 47,
      "outputs": [
        {
          "output_type": "stream",
          "name": "stdout",
          "text": [
            "Average speed 194.0\n",
            "Top speed 440\n",
            "Driver above 200: 3\n"
          ]
        }
      ]
    }
  ]
}