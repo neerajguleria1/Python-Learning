{
  "nbformat": 4,
  "nbformat_minor": 0,
  "metadata": {
    "colab": {
      "provenance": [],
      "authorship_tag": "ABX9TyOV4Xlw1IdCbdzzJfvLbpSY",
      "include_colab_link": true
    },
    "kernelspec": {
      "name": "python3",
      "display_name": "Python 3"
    },
    "language_info": {
      "name": "python"
    }
  },
  "cells": [
    {
      "cell_type": "markdown",
      "metadata": {
        "id": "view-in-github",
        "colab_type": "text"
      },
      "source": [
        "<a href=\"https://colab.research.google.com/github/neerajguleria1/driver-drowsiness-detection/blob/main/Day13.ipynb\" target=\"_parent\"><img src=\"https://colab.research.google.com/assets/colab-badge.svg\" alt=\"Open In Colab\"/></a>"
      ]
    },
    {
      "cell_type": "code",
      "execution_count": 4,
      "metadata": {
        "colab": {
          "base_uri": "https://localhost:8080/"
        },
        "id": "L-6zyoAWz8XL",
        "outputId": "c6c488eb-3ca3-4324-c50b-552d5971faee"
      },
      "outputs": [
        {
          "output_type": "stream",
          "name": "stdout",
          "text": [
            "Mean speed: 167.41666666666666\n",
            "Median speed: 176.0\n",
            "Standard Deviation: 34.89617537145805\n",
            "Variance: 1217.7430555555554\n",
            "Mean speed per driver: [135.66666667 200.         172.         162.        ]\n",
            "Mean speed per trip: [167.5  156.5  178.25]\n",
            "2\n"
          ]
        }
      ],
      "source": [
        "# Statistical Opeartions\n",
        "import  numpy as np\n",
        "\n",
        "driver_speeds = np.array([\n",
        "    [120, 102, 185],\n",
        "    [220, 198, 182],\n",
        "    [170, 198, 148],\n",
        "    [160, 128, 198]\n",
        "])\n",
        "\n",
        "mean_speed = np.mean(driver_speeds)\n",
        "median_speed = np.median(driver_speeds)\n",
        "std_speed = np.std(driver_speeds)\n",
        "var_speed = np.var(driver_speeds)\n",
        "\n",
        "print(\"Mean speed:\", mean_speed)\n",
        "print(\"Median speed:\", median_speed)\n",
        "print(\"Standard Deviation:\", std_speed)\n",
        "print(\"Variance:\", var_speed)\n",
        "\n",
        "# Mean speed per driver\n",
        "mean_per_driver = np.mean(driver_speeds, axis=1)\n",
        "print(\"Mean speed per driver:\", mean_per_driver)\n",
        "\n",
        "# Mean speed per trip\n",
        "mean_per_trip = np.mean(driver_speeds, axis=0)\n",
        "print(\"Mean speed per trip:\", mean_per_trip)\n",
        "\n",
        "overall_avg=np.mean(driver_speeds)\n",
        "driver_avg=np.mean(driver_speeds,axis=1)\n",
        "closest_driver=np.argmin(np.abs(driver_avg-overall_avg))\n",
        "print(closest_driver)"
      ]
    },
    {
      "cell_type": "code",
      "source": [
        "# Tasks\n",
        "'''Create a new array with 5 drivers and 4 trips.\n",
        "\n",
        "Calculate for each driver:\n",
        "\n",
        "Mean\n",
        "\n",
        "Max\n",
        "\n",
        "Min\n",
        "\n",
        "Standard deviation\n",
        "\n",
        "Print the driver with most consistent speeds (lowest std deviation).'''\n",
        "\n",
        "import numpy as np\n",
        "driver_speeds = np.array([\n",
        "    [120, 102, 185,336],\n",
        "    [220, 198, 182,55],\n",
        "    [170, 198, 148,88],\n",
        "    [160, 128, 198,129],\n",
        "    [260, 188, 158,129]\n",
        "])\n",
        "each_driver_mean=np.mean(driver_speeds,axis=1)\n",
        "print(each_driver_mean)\n",
        "\n",
        "each_driver_max=np.max(driver_speeds,axis=1)\n",
        "print(each_driver_max)\n",
        "\n",
        "each_driver_min=np.min(driver_speeds,axis=1)\n",
        "print(each_driver_min)\n",
        "\n",
        "each_driver_stdDev=np.std(driver_speeds,axis=1)\n",
        "print(each_driver_stdDev)\n",
        "\n",
        "lowest_std_dev=np.min(each_driver_stdDev)\n",
        "print(lowest_std_dev)\n",
        "\n",
        "most_consistent_driver_index=np.argmin(each_driver_stdDev)\n",
        "most_consistent_driver_std=each_driver_stdDev[most_consistent_driver_index]\n",
        "\n",
        "print(f\"\\nDriver {most_consistent_driver_index+1} is most consistent driver\" f\"(std deviations is: {most_consistent_driver_std:2f})\")\n",
        "\n"
      ],
      "metadata": {
        "colab": {
          "base_uri": "https://localhost:8080/"
        },
        "id": "dGVeZY262jYb",
        "outputId": "ac2fcf66-ebfa-45be-dbbb-6605f88ef2d2"
      },
      "execution_count": 15,
      "outputs": [
        {
          "output_type": "stream",
          "name": "stdout",
          "text": [
            "[185.75 163.75 151.   153.75 183.75]\n",
            "[336 220 198 198 260]\n",
            "[102  55  88 128 129]\n",
            "[92.07707369 64.21983728 40.45985665 28.603977   48.71537232]\n",
            "28.603976996215053\n",
            "\n",
            "Driver 4 is most consistent driver(std deviations is: 28.603977)\n"
          ]
        }
      ]
    }
  ]
}