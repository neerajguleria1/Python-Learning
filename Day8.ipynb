{
  "nbformat": 4,
  "nbformat_minor": 0,
  "metadata": {
    "colab": {
      "provenance": [],
      "authorship_tag": "ABX9TyNREHCzNYtbwBSRXkw7RkeR",
      "include_colab_link": true
    },
    "kernelspec": {
      "name": "python3",
      "display_name": "Python 3"
    },
    "language_info": {
      "name": "python"
    }
  },
  "cells": [
    {
      "cell_type": "markdown",
      "metadata": {
        "id": "view-in-github",
        "colab_type": "text"
      },
      "source": [
        "<a href=\"https://colab.research.google.com/github/neerajguleria1/Python-Learning/blob/main/Day8.ipynb\" target=\"_parent\"><img src=\"https://colab.research.google.com/assets/colab-badge.svg\" alt=\"Open In Colab\"/></a>"
      ]
    },
    {
      "cell_type": "code",
      "execution_count": 2,
      "metadata": {
        "colab": {
          "base_uri": "https://localhost:8080/"
        },
        "id": "P8538OiKWSP4",
        "outputId": "a50cc16d-1f32-4b8f-9518-1780b9b21a6c"
      },
      "outputs": [
        {
          "output_type": "stream",
          "name": "stdout",
          "text": [
            "speed is 99\n"
          ]
        }
      ],
      "source": [
        "# Error Handling & Safe Input\n",
        "\n",
        "speed=\"fast\"\n",
        "try:\n",
        "  speed=int(speed)\n",
        "  print(f\"speed is {speed}\")\n",
        "except ValueError:\n",
        "  print(\"Invalid speed! please enter a number\")"
      ]
    },
    {
      "cell_type": "code",
      "source": [
        "developer={\"name\":\"Neeraj\"}\n",
        "try:\n",
        "  print(developer[\"age\"])\n",
        "except KeyError:\n",
        "  print(f\"{developer[\"name\"]} age is not given\")"
      ],
      "metadata": {
        "colab": {
          "base_uri": "https://localhost:8080/"
        },
        "id": "s-eyt2f3W7uh",
        "outputId": "eadbb3e6-a354-4a8a-9550-5e497c2be0df"
      },
      "execution_count": 7,
      "outputs": [
        {
          "output_type": "stream",
          "name": "stdout",
          "text": [
            "Neeraj age is not given\n"
          ]
        }
      ]
    },
    {
      "cell_type": "code",
      "source": [
        "# Using Finally\n",
        "try:\n",
        "  speed=int(\"fast\")\n",
        "except ValueError:\n",
        "  print(\"Invalid input!\")\n",
        "finally:\n",
        "  print(\"This will print no matter what\")"
      ],
      "metadata": {
        "colab": {
          "base_uri": "https://localhost:8080/"
        },
        "id": "cHiVT_Y5XmYJ",
        "outputId": "a8bf63df-8347-4856-a0f6-dee9bc69db5f"
      },
      "execution_count": 8,
      "outputs": [
        {
          "output_type": "stream",
          "name": "stdout",
          "text": [
            "Invalid input!\n",
            "This will print no matter what\n"
          ]
        }
      ]
    },
    {
      "cell_type": "code",
      "source": [
        "# Mini Challange\n",
        "'''Ask the user to input driver speed and seatbelt status.\n",
        "\n",
        "Use try/except to validate:\n",
        "\n",
        "Speed must be integer\n",
        "\n",
        "Seatbelt must be True/False\n",
        "\n",
        "If input is invalid, ask again until correct input is given.'''\n",
        "driver={\"name\":\"sujal\"}\n",
        "\n",
        "while True:\n",
        "  try:\n",
        "    driver[\"speed\"]=int(input(\"Enter speed\"))\n",
        "    break\n",
        "  except ValueError:\n",
        "    print(\"Invalid input! speed must be integer\")\n",
        "\n",
        "while True:\n",
        "    seat_input=input(\"Is seatbelt on ? (True/False)\").strip().capitalize()\n",
        "    if seat_input in [\"True\",\"False\"]:\n",
        "      driver[\"seatbelt\"]=seat_input==\"True\"\n",
        "      break\n",
        "    else:\n",
        "      print(\"Invalid input enter True or False\");\n",
        "print(driver)"
      ],
      "metadata": {
        "colab": {
          "base_uri": "https://localhost:8080/"
        },
        "id": "uhxWOxG6YPzx",
        "outputId": "8460fa79-413b-44f1-a770-01f4216659f4"
      },
      "execution_count": 16,
      "outputs": [
        {
          "output_type": "stream",
          "name": "stdout",
          "text": [
            "Enter speed66\n",
            "Is seatbelt on ? (True/False)True\n",
            "{'name': 'sujal', 'speed': 66, 'seatbelt': True}\n"
          ]
        }
      ]
    }
  ]
}