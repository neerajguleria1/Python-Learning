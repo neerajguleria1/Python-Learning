{
  "nbformat": 4,
  "nbformat_minor": 0,
  "metadata": {
    "colab": {
      "provenance": [],
      "authorship_tag": "ABX9TyOCBaFzsEag7M5PC4zseupw",
      "include_colab_link": true
    },
    "kernelspec": {
      "name": "python3",
      "display_name": "Python 3"
    },
    "language_info": {
      "name": "python"
    }
  },
  "cells": [
    {
      "cell_type": "markdown",
      "metadata": {
        "id": "view-in-github",
        "colab_type": "text"
      },
      "source": [
        "<a href=\"https://colab.research.google.com/github/neerajguleria1/driver-drowsiness-detection/blob/main/Day14.ipynb\" target=\"_parent\"><img src=\"https://colab.research.google.com/assets/colab-badge.svg\" alt=\"Open In Colab\"/></a>"
      ]
    },
    {
      "cell_type": "code",
      "execution_count": 33,
      "metadata": {
        "colab": {
          "base_uri": "https://localhost:8080/",
          "height": 36
        },
        "id": "wGAsCWyD8u4S",
        "outputId": "0b13e8f5-cac0-404c-c511-ad21704385ad"
      },
      "outputs": [
        {
          "output_type": "execute_result",
          "data": {
            "text/plain": [
              "'We’ll now move from NumPy arrays → Pandas DataFrames,\\n which is how real-world data is handled.'"
            ],
            "application/vnd.google.colaboratory.intrinsic+json": {
              "type": "string"
            }
          },
          "metadata": {},
          "execution_count": 33
        }
      ],
      "source": [
        "# Pandas Basics\n",
        "'''We’ll now move from NumPy arrays → Pandas DataFrames,\n",
        " which is how real-world data is handled.'''\n",
        ""
      ]
    },
    {
      "cell_type": "code",
      "source": [
        "import pandas as pd\n",
        "data={\n",
        "    'Driver':['A','B','C','D','E'],\n",
        "    'Trip 1':[120,135,225,156,142],\n",
        "    'Trip 2':[220,132,525,86,112],\n",
        "    'Trip 3':[150,835,425,123,172],\n",
        "    'Trip 4':[110,115,225,251,115],\n",
        "}\n",
        "#Convert Dictionary to dataframe\n",
        "df=pd.DataFrame(data)\n",
        "print(\"Driver Speed Data:\\n\",df)\n",
        "\n",
        "#Basic Exploration\n",
        "print(\"\\n First 3 rows:\\n\",df.head(3))\n",
        "print(\"\\n Info:\\n\")\n",
        "df.info()\n",
        "\n",
        "#Statistical Summary\n",
        "print(\"\\n Summary:\\n\",df.describe())\n",
        "\n",
        "#print a single column\n",
        "print(\"\\n speed of fist driver: \\n\",df['Trip 2'])\n",
        "print(\"\\n Overspeeding Trips over 200:\\n\", df[(df['Trip 1']>200) | (df['Trip 2']>200) | (df['Trip 3']>200) | (df['Trip 4']> 200)])\n",
        "\n",
        "#Highlight overSpeed with Yellow Color\n",
        "def highlight_over_200(val):\n",
        "  return 'background-color:red' if val>200 else ''\n",
        "styled_df=df.style.applymap(highlight_over_200,subset=['Trip 1','Trip 2','Trip 3','Trip 4'])\n",
        "styled_df"
      ],
      "metadata": {
        "colab": {
          "base_uri": "https://localhost:8080/",
          "height": 1000
        },
        "id": "S0yESJFK-20o",
        "outputId": "67e624cd-025f-4b55-a973-fa9d6ea594c9"
      },
      "execution_count": 34,
      "outputs": [
        {
          "output_type": "stream",
          "name": "stdout",
          "text": [
            "Driver Speed Data:\n",
            "   Driver  Trip 1  Trip 2  Trip 3  Trip 4\n",
            "0      A     120     220     150     110\n",
            "1      B     135     132     835     115\n",
            "2      C     225     525     425     225\n",
            "3      D     156      86     123     251\n",
            "4      E     142     112     172     115\n",
            "\n",
            " First 3 rows:\n",
            "   Driver  Trip 1  Trip 2  Trip 3  Trip 4\n",
            "0      A     120     220     150     110\n",
            "1      B     135     132     835     115\n",
            "2      C     225     525     425     225\n",
            "\n",
            " Info:\n",
            "\n",
            "<class 'pandas.core.frame.DataFrame'>\n",
            "RangeIndex: 5 entries, 0 to 4\n",
            "Data columns (total 5 columns):\n",
            " #   Column  Non-Null Count  Dtype \n",
            "---  ------  --------------  ----- \n",
            " 0   Driver  5 non-null      object\n",
            " 1   Trip 1  5 non-null      int64 \n",
            " 2   Trip 2  5 non-null      int64 \n",
            " 3   Trip 3  5 non-null      int64 \n",
            " 4   Trip 4  5 non-null      int64 \n",
            "dtypes: int64(4), object(1)\n",
            "memory usage: 332.0+ bytes\n",
            "\n",
            " Summary:\n",
            "           Trip 1      Trip 2      Trip 3      Trip 4\n",
            "count    5.00000    5.000000    5.000000    5.000000\n",
            "mean   155.60000  215.000000  341.000000  163.200000\n",
            "std     40.90599  180.460522  301.520314   68.928949\n",
            "min    120.00000   86.000000  123.000000  110.000000\n",
            "25%    135.00000  112.000000  150.000000  115.000000\n",
            "50%    142.00000  132.000000  172.000000  115.000000\n",
            "75%    156.00000  220.000000  425.000000  225.000000\n",
            "max    225.00000  525.000000  835.000000  251.000000\n",
            "\n",
            " speed of fist driver: \n",
            " 0    220\n",
            "1    132\n",
            "2    525\n",
            "3     86\n",
            "4    112\n",
            "Name: Trip 2, dtype: int64\n",
            "\n",
            " Overspeeding Trips over 200:\n",
            "   Driver  Trip 1  Trip 2  Trip 3  Trip 4\n",
            "0      A     120     220     150     110\n",
            "1      B     135     132     835     115\n",
            "2      C     225     525     425     225\n",
            "3      D     156      86     123     251\n"
          ]
        },
        {
          "output_type": "stream",
          "name": "stderr",
          "text": [
            "/tmp/ipython-input-909010997.py:28: FutureWarning: Styler.applymap has been deprecated. Use Styler.map instead.\n",
            "  styled_df=df.style.applymap(highlight_over_200,subset=['Trip 1','Trip 2','Trip 3','Trip 4'])\n"
          ]
        },
        {
          "output_type": "execute_result",
          "data": {
            "text/plain": [
              "<pandas.io.formats.style.Styler at 0x79222b0d74a0>"
            ],
            "text/html": [
              "<style type=\"text/css\">\n",
              "#T_6c104_row0_col2, #T_6c104_row1_col3, #T_6c104_row2_col1, #T_6c104_row2_col2, #T_6c104_row2_col3, #T_6c104_row2_col4, #T_6c104_row3_col4 {\n",
              "  background-color: red;\n",
              "}\n",
              "</style>\n",
              "<table id=\"T_6c104\" class=\"dataframe\">\n",
              "  <thead>\n",
              "    <tr>\n",
              "      <th class=\"blank level0\" >&nbsp;</th>\n",
              "      <th id=\"T_6c104_level0_col0\" class=\"col_heading level0 col0\" >Driver</th>\n",
              "      <th id=\"T_6c104_level0_col1\" class=\"col_heading level0 col1\" >Trip 1</th>\n",
              "      <th id=\"T_6c104_level0_col2\" class=\"col_heading level0 col2\" >Trip 2</th>\n",
              "      <th id=\"T_6c104_level0_col3\" class=\"col_heading level0 col3\" >Trip 3</th>\n",
              "      <th id=\"T_6c104_level0_col4\" class=\"col_heading level0 col4\" >Trip 4</th>\n",
              "    </tr>\n",
              "  </thead>\n",
              "  <tbody>\n",
              "    <tr>\n",
              "      <th id=\"T_6c104_level0_row0\" class=\"row_heading level0 row0\" >0</th>\n",
              "      <td id=\"T_6c104_row0_col0\" class=\"data row0 col0\" >A</td>\n",
              "      <td id=\"T_6c104_row0_col1\" class=\"data row0 col1\" >120</td>\n",
              "      <td id=\"T_6c104_row0_col2\" class=\"data row0 col2\" >220</td>\n",
              "      <td id=\"T_6c104_row0_col3\" class=\"data row0 col3\" >150</td>\n",
              "      <td id=\"T_6c104_row0_col4\" class=\"data row0 col4\" >110</td>\n",
              "    </tr>\n",
              "    <tr>\n",
              "      <th id=\"T_6c104_level0_row1\" class=\"row_heading level0 row1\" >1</th>\n",
              "      <td id=\"T_6c104_row1_col0\" class=\"data row1 col0\" >B</td>\n",
              "      <td id=\"T_6c104_row1_col1\" class=\"data row1 col1\" >135</td>\n",
              "      <td id=\"T_6c104_row1_col2\" class=\"data row1 col2\" >132</td>\n",
              "      <td id=\"T_6c104_row1_col3\" class=\"data row1 col3\" >835</td>\n",
              "      <td id=\"T_6c104_row1_col4\" class=\"data row1 col4\" >115</td>\n",
              "    </tr>\n",
              "    <tr>\n",
              "      <th id=\"T_6c104_level0_row2\" class=\"row_heading level0 row2\" >2</th>\n",
              "      <td id=\"T_6c104_row2_col0\" class=\"data row2 col0\" >C</td>\n",
              "      <td id=\"T_6c104_row2_col1\" class=\"data row2 col1\" >225</td>\n",
              "      <td id=\"T_6c104_row2_col2\" class=\"data row2 col2\" >525</td>\n",
              "      <td id=\"T_6c104_row2_col3\" class=\"data row2 col3\" >425</td>\n",
              "      <td id=\"T_6c104_row2_col4\" class=\"data row2 col4\" >225</td>\n",
              "    </tr>\n",
              "    <tr>\n",
              "      <th id=\"T_6c104_level0_row3\" class=\"row_heading level0 row3\" >3</th>\n",
              "      <td id=\"T_6c104_row3_col0\" class=\"data row3 col0\" >D</td>\n",
              "      <td id=\"T_6c104_row3_col1\" class=\"data row3 col1\" >156</td>\n",
              "      <td id=\"T_6c104_row3_col2\" class=\"data row3 col2\" >86</td>\n",
              "      <td id=\"T_6c104_row3_col3\" class=\"data row3 col3\" >123</td>\n",
              "      <td id=\"T_6c104_row3_col4\" class=\"data row3 col4\" >251</td>\n",
              "    </tr>\n",
              "    <tr>\n",
              "      <th id=\"T_6c104_level0_row4\" class=\"row_heading level0 row4\" >4</th>\n",
              "      <td id=\"T_6c104_row4_col0\" class=\"data row4 col0\" >E</td>\n",
              "      <td id=\"T_6c104_row4_col1\" class=\"data row4 col1\" >142</td>\n",
              "      <td id=\"T_6c104_row4_col2\" class=\"data row4 col2\" >112</td>\n",
              "      <td id=\"T_6c104_row4_col3\" class=\"data row4 col3\" >172</td>\n",
              "      <td id=\"T_6c104_row4_col4\" class=\"data row4 col4\" >115</td>\n",
              "    </tr>\n",
              "  </tbody>\n",
              "</table>\n"
            ]
          },
          "metadata": {},
          "execution_count": 34
        }
      ]
    },
    {
      "cell_type": "code",
      "source": [
        "\n",
        "import pandas as pd\n",
        "\n",
        "# Step 2\n",
        "data = {\n",
        "    'Driver': ['A', 'B', 'C', 'D', 'E'],\n",
        "    'Trip1': [120, 220, 170, 160, 260],\n",
        "    'Trip2': [102, 198, 198, 128, 188],\n",
        "    'Trip3': [185, 182, 148, 198, 158],\n",
        "    'Trip4': [336, 55, 88, 129, 129]\n",
        "}\n",
        "\n",
        "# Step 3️\n",
        "df = pd.DataFrame(data)\n",
        "print(\" Driver Speed Data:\")\n",
        "print(df)\n",
        " # Step 4 Average spped Coulum created\n",
        "df['Average Speed']=df[['Trip1','Trip2','Trip3', 'Trip4']].mean(axis=1)\n",
        "print(df)\n",
        "df.to_csv('driver_data.csv',index=False)\n",
        "overspeeding=df[df['Average Speed']>160]\n",
        "print(\"\\n Overspeeding drivers:\")\n",
        "print(overspeeding)\n",
        "overspeeding.to_csv('overspeeding.csv',index=False)\n",
        "print(\"\\n Files created successfully\")"
      ],
      "metadata": {
        "colab": {
          "base_uri": "https://localhost:8080/"
        },
        "id": "hKyXWeECPpVD",
        "outputId": "4ce45376-5476-4362-d320-ca3b29424a09"
      },
      "execution_count": 36,
      "outputs": [
        {
          "output_type": "stream",
          "name": "stdout",
          "text": [
            " Driver Speed Data:\n",
            "  Driver  Trip1  Trip2  Trip3  Trip4\n",
            "0      A    120    102    185    336\n",
            "1      B    220    198    182     55\n",
            "2      C    170    198    148     88\n",
            "3      D    160    128    198    129\n",
            "4      E    260    188    158    129\n",
            "  Driver  Trip1  Trip2  Trip3  Trip4  Average Speed\n",
            "0      A    120    102    185    336         185.75\n",
            "1      B    220    198    182     55         163.75\n",
            "2      C    170    198    148     88         151.00\n",
            "3      D    160    128    198    129         153.75\n",
            "4      E    260    188    158    129         183.75\n",
            "\n",
            " Overspeeding drivers:\n",
            "  Driver  Trip1  Trip2  Trip3  Trip4  Average Speed\n",
            "0      A    120    102    185    336         185.75\n",
            "1      B    220    198    182     55         163.75\n",
            "4      E    260    188    158    129         183.75\n",
            "\n",
            " Files created successfully\n"
          ]
        }
      ]
    }
  ]
}