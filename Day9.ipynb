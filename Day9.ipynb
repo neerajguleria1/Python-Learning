{
  "nbformat": 4,
  "nbformat_minor": 0,
  "metadata": {
    "colab": {
      "provenance": [],
      "authorship_tag": "ABX9TyMTVJGFL6Z5MUI6X6mSG55R",
      "include_colab_link": true
    },
    "kernelspec": {
      "name": "python3",
      "display_name": "Python 3"
    },
    "language_info": {
      "name": "python"
    }
  },
  "cells": [
    {
      "cell_type": "markdown",
      "metadata": {
        "id": "view-in-github",
        "colab_type": "text"
      },
      "source": [
        "<a href=\"https://colab.research.google.com/github/neerajguleria1/Python-Learning/blob/main/Day9.ipynb\" target=\"_parent\"><img src=\"https://colab.research.google.com/assets/colab-badge.svg\" alt=\"Open In Colab\"/></a>"
      ]
    },
    {
      "cell_type": "code",
      "execution_count": 1,
      "metadata": {
        "colab": {
          "base_uri": "https://localhost:8080/"
        },
        "id": "NITCx03g2Xwb",
        "outputId": "9bd00144-5962-45e1-eb15-13b0b97790b3"
      },
      "outputs": [
        {
          "output_type": "stream",
          "name": "stdout",
          "text": [
            "[10, 20, 30, 40, 50, 60, 70, 80, 90, 100]\n"
          ]
        }
      ],
      "source": [
        "# Comprehensions+ Advanced Loops\n",
        "\n",
        "speeds=[i*10 for i in range(1,11)]\n",
        "print(speeds)"
      ]
    },
    {
      "cell_type": "code",
      "source": [
        "#Dictionary Comprehension\n",
        "drivers=[\n",
        "    {\"F1\":\"Neeraj\",\"speed\":280},\n",
        "    {\"F1\":\"Sujal\",\"speed\":250},\n",
        "    {\"F1\":\"Nishant\",\"speed\":220},\n",
        "]\n",
        "overSpeeding=[d[\"F1\"] for d in drivers if d[\"speed\"]>240]\n",
        "print(overSpeeding)"
      ],
      "metadata": {
        "colab": {
          "base_uri": "https://localhost:8080/"
        },
        "id": "9FW5LCg03HEL",
        "outputId": "85330757-cc3c-4036-e1ba-57108a00045f"
      },
      "execution_count": 3,
      "outputs": [
        {
          "output_type": "stream",
          "name": "stdout",
          "text": [
            "['Neeraj', 'Sujal']\n"
          ]
        }
      ]
    },
    {
      "cell_type": "code",
      "source": [
        "#Set Compreshension\n",
        "vehicles={\"ferrari\",\"mercedes\",\"lambo\",\"jaguar\",\"bmw\",\"lambo\",\"ferrari\"}\n",
        "unique_vehicles={v for v in vehicles}\n",
        "print(unique_vehicles)"
      ],
      "metadata": {
        "colab": {
          "base_uri": "https://localhost:8080/"
        },
        "id": "5MC7Z5Lw38Qt",
        "outputId": "649b84ae-c368-4aac-a020-7e2542e51e13"
      },
      "execution_count": 15,
      "outputs": [
        {
          "output_type": "stream",
          "name": "stdout",
          "text": [
            "{'ferrari', 'bmw', 'mercedes', 'lambo', 'jaguar'}\n"
          ]
        }
      ]
    },
    {
      "cell_type": "code",
      "source": [
        "# Nested Loops in Compreshension\n",
        "all_speeds=[[120,150],[170,220],[250,122]]\n",
        "flattend=[speed for subList in all_speeds for speed in subList]\n",
        "print(flattend)"
      ],
      "metadata": {
        "colab": {
          "base_uri": "https://localhost:8080/"
        },
        "id": "SaJcevMR4sHI",
        "outputId": "307305e4-0260-4870-e5f2-204301c759ff"
      },
      "execution_count": 6,
      "outputs": [
        {
          "output_type": "stream",
          "name": "stdout",
          "text": [
            "[120, 150, 170, 220, 250, 122]\n"
          ]
        }
      ]
    },
    {
      "cell_type": "code",
      "source": [
        "'''Mini Challenge — Day 9\n",
        "\n",
        "Take list of 5–10 drivers with name, speed, seatbelt.\n",
        "\n",
        "Using comprehensions, create:\n",
        "\n",
        "List of overspeeding drivers\n",
        "\n",
        "Dict of driver name → speed squared\n",
        "\n",
        "Set of drivers wearing seatbelt\n",
        "\n",
        "Print all results neatly.'''\n",
        "\n",
        "drivers=[\n",
        "    {\"name\":\"chandra\",\"speed\":220,\"seatbelt\":False},\n",
        "    {\"name\":\"neeraj\",\"speed\":225,\"seatbelt\":True},\n",
        "    {\"name\":\"nishant\",\"speed\":120,\"seatbelt\":True},\n",
        "    {\"name\":\"arpit\",\"speed\":326,\"seatbelt\":False},\n",
        "    {\"name\":\"sujal\",\"speed\":280,\"seatbelt\":False}\n",
        "]\n",
        "comparsion=[d[\"name\"] for d in drivers if d[\"speed\"]>210 and not  d[\"seatbelt\"]]\n",
        "\n",
        "speed_squared={d[\"name\"]:d[\"speed\"]**2 for d in drivers}\n",
        "seatbelt_drivers={d[\"name\"] for d in drivers if d[\"seatbelt\"]}\n",
        "\n",
        "print(comparsion)\n",
        "print(speed_squared)\n",
        "print(seatbelt_drivers)"
      ],
      "metadata": {
        "colab": {
          "base_uri": "https://localhost:8080/"
        },
        "id": "Cq5-JpLx5s8x",
        "outputId": "e4d3cad2-311d-4261-e4e7-a2a2384e6962"
      },
      "execution_count": 19,
      "outputs": [
        {
          "output_type": "stream",
          "name": "stdout",
          "text": [
            "['chandra', 'arpit', 'sujal']\n",
            "{'chandra': 48400, 'neeraj': 50625, 'nishant': 14400, 'arpit': 106276, 'sujal': 78400}\n",
            "{'nishant', 'neeraj'}\n"
          ]
        }
      ]
    }
  ]
}