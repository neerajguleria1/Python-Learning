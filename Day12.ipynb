{
  "nbformat": 4,
  "nbformat_minor": 0,
  "metadata": {
    "colab": {
      "provenance": [],
      "authorship_tag": "ABX9TyMQjmLJMVNpRs7y5QYFaw2F",
      "include_colab_link": true
    },
    "kernelspec": {
      "name": "python3",
      "display_name": "Python 3"
    },
    "language_info": {
      "name": "python"
    }
  },
  "cells": [
    {
      "cell_type": "markdown",
      "metadata": {
        "id": "view-in-github",
        "colab_type": "text"
      },
      "source": [
        "<a href=\"https://colab.research.google.com/github/neerajguleria1/driver-drowsiness-detection/blob/main/Day12.ipynb\" target=\"_parent\"><img src=\"https://colab.research.google.com/assets/colab-badge.svg\" alt=\"Open In Colab\"/></a>"
      ]
    },
    {
      "cell_type": "code",
      "execution_count": 22,
      "metadata": {
        "colab": {
          "base_uri": "https://localhost:8080/"
        },
        "id": "uF60w6q7-gjy",
        "outputId": "8aa09b84-544e-4bcf-9055-49e43eef6552"
      },
      "outputs": [
        {
          "output_type": "stream",
          "name": "stdout",
          "text": [
            "[120 250 110 230 270 160]\n",
            "type: <class 'numpy.ndarray'>\n",
            "shape (6,)\n",
            "data type: int64\n",
            "Max: 270\n",
            "min 110\n",
            "average: 190.0\n",
            "Total: 1140\n",
            "standard deviation 62.98147875897061\n",
            "overspeeding [False  True False  True  True False]\n",
            "Adjusted speed [120. 225. 110. 207. 243. 160.]\n",
            "shape (3, 3)\n",
            "average speed pre driver: [257.66666667 122.66666667 335.66666667]\n",
            "average speed per trip: [197.66666667 352.         166.33333333]\n"
          ]
        }
      ],
      "source": [
        "# Numpy Operations\n",
        "import numpy as np\n",
        "speeds=np.array([120,250,110,230,270,160])\n",
        "print(speeds)\n",
        "print(\"type:\", type(speeds))\n",
        "print(\"shape\",speeds.shape)\n",
        "print(\"data type:\", speeds.dtype)\n",
        "\n",
        "print(\"Max:\",np.max(speeds))\n",
        "print(\"min\",np.min(speeds))\n",
        "print(\"average:\",np.mean(speeds))\n",
        "print(\"Total:\",np.sum(speeds))\n",
        "print(\"standard deviation\",np.std(speeds))\n",
        "\n",
        "speed_Limit=200;\n",
        "overspeeding=speeds>speed_Limit\n",
        "print(\"overspeeding\",overspeeding)\n",
        "\n",
        "#Now we adjust speed\n",
        "#it automatically reduce speed by 10%\n",
        "adjusted_speed=np.where(overspeeding,speeds*0.9,speeds)\n",
        "print(\"Adjusted speed\",adjusted_speed)\n",
        "\n",
        "# 2D Arrays\n",
        "driver_speed=np.array([\n",
        "    [150,290,333],\n",
        "    [222,69,77],\n",
        "    [221,697,89]\n",
        "])\n",
        "print(\"shape\",driver_speed.shape)\n",
        "print(\"average speed pre driver:\",np.mean(driver_speed,axis=1))#acrooss colums\n",
        "print(\"average speed per trip:\",np.mean(driver_speed,axis=0))\n"
      ]
    },
    {
      "cell_type": "code",
      "source": [
        "import numpy as np\n",
        "driver_speeds=np.array([\n",
        "    [120,102,185],\n",
        "    [220,198,182],\n",
        "    [170,198,148],\n",
        "    [160,128,198]\n",
        "])\n",
        "fastest_speed=np.max(driver_speeds)\n",
        "print(fastest_speed)\n",
        "speed_limit=180\n",
        "overspeeding=driver_speeds > speed_limit\n",
        "adjusted_speeds=np.where(overspeeding,driver_speeds*0.9,driver_speeds)\n",
        "print(overspeeding)\n",
        "print(adjusted_speeds)"
      ],
      "metadata": {
        "colab": {
          "base_uri": "https://localhost:8080/"
        },
        "id": "dUG_ZcaKCNPe",
        "outputId": "60452410-34c3-494e-f8c1-d81e4db522dc"
      },
      "execution_count": 33,
      "outputs": [
        {
          "output_type": "stream",
          "name": "stdout",
          "text": [
            "220\n",
            "[[False False  True]\n",
            " [ True  True  True]\n",
            " [False  True False]\n",
            " [False False  True]]\n",
            "[[120.  102.  166.5]\n",
            " [198.  178.2 163.8]\n",
            " [170.  178.2 148. ]\n",
            " [160.  128.  178.2]]\n"
          ]
        }
      ]
    }
  ]
}