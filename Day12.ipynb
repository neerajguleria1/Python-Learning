{
  "nbformat": 4,
  "nbformat_minor": 0,
  "metadata": {
    "colab": {
      "provenance": [],
      "authorship_tag": "ABX9TyNPElu6D8dRLxvFT0t0bOD7",
      "include_colab_link": true
    },
    "kernelspec": {
      "name": "python3",
      "display_name": "Python 3"
    },
    "language_info": {
      "name": "python"
    }
  },
  "cells": [
    {
      "cell_type": "markdown",
      "metadata": {
        "id": "view-in-github",
        "colab_type": "text"
      },
      "source": [
        "<a href=\"https://colab.research.google.com/github/neerajguleria1/driver-drowsiness-detection/blob/main/Day12.ipynb\" target=\"_parent\"><img src=\"https://colab.research.google.com/assets/colab-badge.svg\" alt=\"Open In Colab\"/></a>"
      ]
    },
    {
      "cell_type": "code",
      "execution_count": 22,
      "metadata": {
        "colab": {
          "base_uri": "https://localhost:8080/"
        },
        "id": "uF60w6q7-gjy",
        "outputId": "8aa09b84-544e-4bcf-9055-49e43eef6552"
      },
      "outputs": [
        {
          "output_type": "stream",
          "name": "stdout",
          "text": [
            "[120 250 110 230 270 160]\n",
            "type: <class 'numpy.ndarray'>\n",
            "shape (6,)\n",
            "data type: int64\n",
            "Max: 270\n",
            "min 110\n",
            "average: 190.0\n",
            "Total: 1140\n",
            "standard deviation 62.98147875897061\n",
            "overspeeding [False  True False  True  True False]\n",
            "Adjusted speed [120. 225. 110. 207. 243. 160.]\n",
            "shape (3, 3)\n",
            "average speed pre driver: [257.66666667 122.66666667 335.66666667]\n",
            "average speed per trip: [197.66666667 352.         166.33333333]\n"
          ]
        }
      ],
      "source": [
        "# Numpy Operations\n",
        "import numpy as np\n",
        "speeds=np.array([120,250,110,230,270,160])\n",
        "print(speeds)\n",
        "print(\"type:\", type(speeds))\n",
        "print(\"shape\",speeds.shape)\n",
        "print(\"data type:\", speeds.dtype)\n",
        "\n",
        "print(\"Max:\",np.max(speeds))\n",
        "print(\"min\",np.min(speeds))\n",
        "print(\"average:\",np.mean(speeds))\n",
        "print(\"Total:\",np.sum(speeds))\n",
        "print(\"standard deviation\",np.std(speeds))\n",
        "\n",
        "speed_Limit=200;\n",
        "overspeeding=speeds>speed_Limit\n",
        "print(\"overspeeding\",overspeeding)\n",
        "\n",
        "#Now we adjust speed\n",
        "#it automatically reduce speed by 10%\n",
        "adjusted_speed=np.where(overspeeding,speeds*0.9,speeds)\n",
        "print(\"Adjusted speed\",adjusted_speed)\n",
        "\n",
        "# 2D Arrays\n",
        "driver_speed=np.array([\n",
        "    [150,290,333],\n",
        "    [222,69,77],\n",
        "    [221,697,89]\n",
        "])\n",
        "print(\"shape\",driver_speed.shape)\n",
        "print(\"average speed pre driver:\",np.mean(driver_speed,axis=1))#acrooss colums\n",
        "print(\"average speed per trip:\",np.mean(driver_speed,axis=0))\n"
      ]
    },
    {
      "cell_type": "code",
      "source": [
        "import numpy as np\n",
        "driver_speeds=np.array([\n",
        "    [120,102,125],\n",
        "    [220,198,182],\n",
        "    [170,198,148],\n",
        "    [160,128,198]\n",
        "])\n",
        "speed_limit=180\n",
        "overspeeding=driver_speeds > speed_limit\n",
        "adjusted_speeds=np.where(overspeeding,driver_speeds*0.9,driver_speeds)\n",
        "print(overspeeding)\n",
        "print(adjusted_speeds)\n",
        "\n",
        "avg_spd_pD=np.mean(driver_speeds,axis=1)\n",
        "fastest_driver=np.argmax(avg_spd_pD);\n",
        "slowest_driver=np.argmin(avg_spd_pD)\n",
        "print(avg_spd_pD)\n",
        "print(f\"fastest driver {fastest_driver+1}\")\n",
        "print(f\"slowest driver {slowest_driver+1}\")\n",
        "\n",
        "overspeeding=driver_speeds>180\n",
        "overspeeding_driver=np.any(overspeeding,axis=1)\n",
        "print(\"number of overspeeding drivers:\",np.sum(overspeeding_driver))\n",
        "print(\"number of overspeeding drivers:\",np.sum(overspeeding))"
      ],
      "metadata": {
        "colab": {
          "base_uri": "https://localhost:8080/"
        },
        "id": "dUG_ZcaKCNPe",
        "outputId": "1fe2e3fc-1be8-4e9a-c4fc-33d9392800cb"
      },
      "execution_count": 46,
      "outputs": [
        {
          "output_type": "stream",
          "name": "stdout",
          "text": [
            "[[False False False]\n",
            " [ True  True  True]\n",
            " [False  True False]\n",
            " [False False  True]]\n",
            "[[120.  102.  125. ]\n",
            " [198.  178.2 163.8]\n",
            " [170.  178.2 148. ]\n",
            " [160.  128.  178.2]]\n",
            "[115.66666667 200.         172.         162.        ]\n",
            "fastest driver 2\n",
            "slowest driver 1\n",
            "number of overspeeding drivers: 3\n",
            "number of overspeeding drivers: 5\n"
          ]
        }
      ]
    }
  ]
}